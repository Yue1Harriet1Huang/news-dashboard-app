{
  "nbformat": 4,
  "nbformat_minor": 0,
  "metadata": {
    "colab": {
      "name": "scrape_reddit_comments.ipynb",
      "provenance": [],
      "authorship_tag": "ABX9TyPz/dICFePCkPb9gh6tCwVM",
      "include_colab_link": true
    },
    "kernelspec": {
      "name": "python3",
      "display_name": "Python 3"
    },
    "language_info": {
      "name": "python"
    }
  },
  "cells": [
    {
      "cell_type": "markdown",
      "metadata": {
        "id": "view-in-github",
        "colab_type": "text"
      },
      "source": [
        "<a href=\"https://colab.research.google.com/github/Yue1Harriet1Huang/news-dashboard-app/blob/master/scrape_reddit_comments.ipynb\" target=\"_parent\"><img src=\"https://colab.research.google.com/assets/colab-badge.svg\" alt=\"Open In Colab\"/></a>"
      ]
    },
    {
      "cell_type": "code",
      "metadata": {
        "id": "q7SB_7KnjUph"
      },
      "source": [
        "!pip install fake_useragent\n",
        "\n",
        "#https://www.reddit.com/r/learnpython/comments/bg644l/learning_to_webscrape_reddit_using_beautiful_soup/\n",
        "import re \n",
        "from bs4 import BeautifulSoup\n",
        "from requests import get\n",
        "from fake_useragent import UserAgent\n",
        "\n",
        "ua = UserAgent()\n",
        "\n",
        "\n",
        "def lovely_soup(u):\n",
        "    r = get(u, headers={'User-Agent': ua.chrome})\n",
        "    return BeautifulSoup(r.text, 'lxml')\n",
        "\n",
        "\n",
        "url = 'https://old.reddit.com/r/Showerthoughts?sort=top&t=week'\n",
        "soup = lovely_soup(url)\n",
        "\n",
        "#titles = soup.findAll('p', {'class': 'title'})\n",
        "#hrefs = soup.findAll('a')#['href'] \n",
        "# for title in titles:\n",
        "#     print(title.text)\n",
        "# for href in hrefs:\n",
        "#     print(href)\n",
        "\n",
        "url_list = []\n",
        "for a in soup.find_all('a', href=True):\n",
        "    url_string = a['href']\n",
        "    #print(\"Found the URL:\", url_string)\n",
        "    if (re.match(\"^https.+comments\",url_string)):  #valid url containing comments must start with https, with the text '/comment/comment' in the middle \n",
        "      # print(\"Found the URL:\", url_string)\n",
        "      url_list.append(url_string)\n",
        "print(url_list)"
      ],
      "execution_count": null,
      "outputs": []
    }
  ]
}
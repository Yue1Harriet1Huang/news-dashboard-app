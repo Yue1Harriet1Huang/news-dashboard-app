{
  "nbformat": 4,
  "nbformat_minor": 0,
  "metadata": {
    "colab": {
      "name": "scrape_reddit_comments.ipynb",
      "provenance": [],
      "authorship_tag": "ABX9TyMVdZihYByEuSfNO9dNjW+a",
      "include_colab_link": true
    },
    "kernelspec": {
      "name": "python3",
      "display_name": "Python 3"
    },
    "language_info": {
      "name": "python"
    }
  },
  "cells": [
    {
      "cell_type": "markdown",
      "metadata": {
        "id": "view-in-github",
        "colab_type": "text"
      },
      "source": [
        "<a href=\"https://colab.research.google.com/github/Yue1Harriet1Huang/news-dashboard-app/blob/master/scrape_reddit_comments.ipynb\" target=\"_parent\"><img src=\"https://colab.research.google.com/assets/colab-badge.svg\" alt=\"Open In Colab\"/></a>"
      ]
    },
    {
      "cell_type": "code",
      "metadata": {
        "id": "q7SB_7KnjUph",
        "colab": {
          "base_uri": "https://localhost:8080/"
        },
        "outputId": "6e1dc387-0712-46e1-ae24-c68a697d8a5d"
      },
      "source": [
        "!pip install fake_useragent\n",
        "\n",
        "#https://www.reddit.com/r/learnpython/comments/bg644l/learning_to_webscrape_reddit_using_beautiful_soup/\n",
        "import re \n",
        "from bs4 import BeautifulSoup\n",
        "from requests import get\n",
        "from fake_useragent import UserAgent\n",
        "\n",
        "ua = UserAgent()\n",
        "\n",
        "\n",
        "def lovely_soup(u):\n",
        "    r = get(u, headers={'User-Agent': ua.chrome})\n",
        "    return BeautifulSoup(r.text, 'lxml')\n",
        "\n",
        "\n",
        "url = 'https://old.reddit.com/r/Showerthoughts?sort=top&t=week'\n",
        "soup = lovely_soup(url)\n",
        "\n",
        "#titles = soup.findAll('p', {'class': 'title'})\n",
        "#hrefs = soup.findAll('a')#['href'] \n",
        "# for title in titles:\n",
        "#     print(title.text)\n",
        "# for href in hrefs:\n",
        "#     print(href)\n",
        "\n",
        "url_list = []\n",
        "for a in soup.find_all('a', href=True):\n",
        "    url_string = a['href']\n",
        "    #print(\"Found the URL:\", url_string)\n",
        "    if (re.match(\"^https.+comments\",url_string)):  #valid url containing comments must start with https, with the text '/comment/comment' in the middle \n",
        "      # print(\"Found the URL:\", url_string)\n",
        "      url_list.append(url_string)\n",
        "print(url_list)\n",
        "len(url_list)\n",
        "\n",
        "#1. remove urls to threads that are relevant (e.g. the text for class=\"rank\" is not numeric )\n",
        "#2. extract comments for each url in the url_list (i.e. the \"class\" argument stats with \"usertext-body\")\n",
        "#3. also, store the number of comments replied to the threads (class starts with \"bylink comments\"), and store the bumps (class=\"score unvoted\"), need points/timestamps of the comments\n",
        "# look into how reddit comments and relevant fields can be stored in json? "
      ],
      "execution_count": 2,
      "outputs": [
        {
          "output_type": "stream",
          "text": [
            "Requirement already satisfied: fake_useragent in /usr/local/lib/python3.7/dist-packages (0.1.11)\n",
            "['https://www.reddit.com/user/drumcowski/comments/ah3cu0/showerthoughts_mod_appreciation/', 'https://old.reddit.com/r/Showerthoughts/comments/fjtbye/important_psa_no_you_did_not_win_a_gift_card/', 'https://old.reddit.com/r/Showerthoughts/comments/mlctq7/to_reduce_imposter_syndrome_people_insist_that/', 'https://old.reddit.com/r/Showerthoughts/comments/mld0gi/somebody_is_going_to_be_the_worlds_first_space/', 'https://old.reddit.com/r/Showerthoughts/comments/mlbltj/on_the_internet_you_can_joke_about_the_amish_and/', 'https://old.reddit.com/r/Showerthoughts/comments/mll08v/a_new_job_wants_to_contact_your_previous/', 'https://old.reddit.com/r/Showerthoughts/comments/mli17d/sleeping_with_no_blanket_on_feels_very_strange/', 'https://old.reddit.com/r/Showerthoughts/comments/mlgp8f/giving_someone_your_unlocked_phone_is_the/', 'https://old.reddit.com/r/Showerthoughts/comments/mlohtg/people_hack_off_the_reproductive_organs_of_plants/', 'https://old.reddit.com/r/Showerthoughts/comments/mlh5a2/the_modern_version_of_measure_twice_cut_once_is/', 'https://old.reddit.com/r/Showerthoughts/comments/mlfvud/the_action_of_doing_nothing_is_impossible/', 'https://old.reddit.com/r/Showerthoughts/comments/ml18o8/having_a_cat_on_your_lap_is_a_valid_reason_not_to/', 'https://old.reddit.com/r/Showerthoughts/comments/mlbdb6/you_cant_lооk_at_a_wоrd_thats_written_in_your/', 'https://old.reddit.com/r/Showerthoughts/comments/mli8oe/when_you_have_a_human_biology_exam_your_brain/', 'https://old.reddit.com/r/Showerthoughts/comments/mli3lx/usain_bolt_can_run_so_fast_that_pokémon_go_would/', 'https://old.reddit.com/r/Showerthoughts/comments/mlchio/if_you_have_alzheimers_you_can_egg_hunt_by/', 'https://old.reddit.com/r/Showerthoughts/comments/mlojxh/falling_down_or_getting_hit_by_an_entire_planet/', 'https://old.reddit.com/r/Showerthoughts/comments/mlighv/given_that_dolphins_communicate_with_each_other/', 'https://old.reddit.com/r/Showerthoughts/comments/mldtb9/when_a_main_character_in_a_show_is_fired_by/', 'https://old.reddit.com/r/Showerthoughts/comments/ml54rv/some_teachers_are_not_good_at_teaching_they_are/', 'https://old.reddit.com/r/Showerthoughts/comments/mlgyfg/fractals_are_crystal_math/', 'https://old.reddit.com/r/Showerthoughts/comments/mldqvc/the_hand_you_must_use_when_your_right_hand_is/', 'https://old.reddit.com/r/Showerthoughts/comments/mkpa82/you_dont_understand_how_many_things_a_muscle_does/', 'https://old.reddit.com/r/Showerthoughts/comments/ml5jcn/weird_dreams_are_proof_that_even_the_most_mundane/', 'https://old.reddit.com/r/Showerthoughts/comments/ml9g21/the_dinosaurs_were_the_victims_of_a_prehistoric/', 'https://old.reddit.com/r/Showerthoughts/comments/mloalw/if_sentient_ai_emerges_in_the_future_we_will/', 'https://old.reddit.com/r/Showerthoughts/comments/mlhoiv/if_you_get_impaled_by_a_bamboo_spear_you_just_got/']\n"
          ],
          "name": "stdout"
        },
        {
          "output_type": "execute_result",
          "data": {
            "text/plain": [
              "27"
            ]
          },
          "metadata": {
            "tags": []
          },
          "execution_count": 2
        }
      ]
    }
  ]
}
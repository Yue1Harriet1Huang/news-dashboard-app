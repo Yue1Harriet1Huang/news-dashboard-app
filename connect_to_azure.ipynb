{
  "nbformat": 4,
  "nbformat_minor": 0,
  "metadata": {
    "colab": {
      "name": "connect_to_azure.ipynb",
      "provenance": [],
      "collapsed_sections": [],
      "include_colab_link": true
    },
    "kernelspec": {
      "name": "python3",
      "display_name": "Python 3"
    }
  },
  "cells": [
    {
      "cell_type": "markdown",
      "metadata": {
        "id": "view-in-github",
        "colab_type": "text"
      },
      "source": [
        "<a href=\"https://colab.research.google.com/github/Yue1Harriet1Huang/news-dashboard-app/blob/master/connect_to_azure.ipynb\" target=\"_parent\"><img src=\"https://colab.research.google.com/assets/colab-badge.svg\" alt=\"Open In Colab\"/></a>"
      ]
    },
    {
      "cell_type": "code",
      "metadata": {
        "colab": {
          "base_uri": "https://localhost:8080/"
        },
        "id": "Met-lyPgqOsh",
        "outputId": "d383e5b2-56ed-48ab-fa43-2e4b2832352a"
      },
      "source": [
        "!pip install azure-common\n",
        "!pip install azure-mgmt-sql\n",
        "!pip install azure-mgmt-resource"
      ],
      "execution_count": 1,
      "outputs": [
        {
          "output_type": "stream",
          "text": [
            "Requirement already satisfied: azure-common in /usr/local/lib/python3.7/dist-packages (1.1.26)\n",
            "Requirement already satisfied: azure-mgmt-sql in /usr/local/lib/python3.7/dist-packages (1.0.0)\n",
            "Requirement already satisfied: msrest>=0.5.0 in /usr/local/lib/python3.7/dist-packages (from azure-mgmt-sql) (0.6.21)\n",
            "Requirement already satisfied: azure-mgmt-core<2.0.0,>=1.2.0 in /usr/local/lib/python3.7/dist-packages (from azure-mgmt-sql) (1.2.2)\n",
            "Requirement already satisfied: azure-common~=1.1 in /usr/local/lib/python3.7/dist-packages (from azure-mgmt-sql) (1.1.26)\n",
            "Requirement already satisfied: requests-oauthlib>=0.5.0 in /usr/local/lib/python3.7/dist-packages (from msrest>=0.5.0->azure-mgmt-sql) (1.3.0)\n",
            "Requirement already satisfied: requests~=2.16 in /usr/local/lib/python3.7/dist-packages (from msrest>=0.5.0->azure-mgmt-sql) (2.23.0)\n",
            "Requirement already satisfied: certifi>=2017.4.17 in /usr/local/lib/python3.7/dist-packages (from msrest>=0.5.0->azure-mgmt-sql) (2020.12.5)\n",
            "Requirement already satisfied: isodate>=0.6.0 in /usr/local/lib/python3.7/dist-packages (from msrest>=0.5.0->azure-mgmt-sql) (0.6.0)\n",
            "Requirement already satisfied: azure-core<2.0.0,>=1.9.0 in /usr/local/lib/python3.7/dist-packages (from azure-mgmt-core<2.0.0,>=1.2.0->azure-mgmt-sql) (1.12.0)\n",
            "Requirement already satisfied: oauthlib>=3.0.0 in /usr/local/lib/python3.7/dist-packages (from requests-oauthlib>=0.5.0->msrest>=0.5.0->azure-mgmt-sql) (3.1.0)\n",
            "Requirement already satisfied: idna<3,>=2.5 in /usr/local/lib/python3.7/dist-packages (from requests~=2.16->msrest>=0.5.0->azure-mgmt-sql) (2.10)\n",
            "Requirement already satisfied: urllib3!=1.25.0,!=1.25.1,<1.26,>=1.21.1 in /usr/local/lib/python3.7/dist-packages (from requests~=2.16->msrest>=0.5.0->azure-mgmt-sql) (1.24.3)\n",
            "Requirement already satisfied: chardet<4,>=3.0.2 in /usr/local/lib/python3.7/dist-packages (from requests~=2.16->msrest>=0.5.0->azure-mgmt-sql) (3.0.4)\n",
            "Requirement already satisfied: six in /usr/local/lib/python3.7/dist-packages (from isodate>=0.6.0->msrest>=0.5.0->azure-mgmt-sql) (1.15.0)\n",
            "Requirement already satisfied: azure-mgmt-resource in /usr/local/lib/python3.7/dist-packages (16.0.0)\n",
            "Requirement already satisfied: azure-common~=1.1 in /usr/local/lib/python3.7/dist-packages (from azure-mgmt-resource) (1.1.26)\n",
            "Requirement already satisfied: azure-mgmt-core<2.0.0,>=1.2.0 in /usr/local/lib/python3.7/dist-packages (from azure-mgmt-resource) (1.2.2)\n",
            "Requirement already satisfied: msrest>=0.5.0 in /usr/local/lib/python3.7/dist-packages (from azure-mgmt-resource) (0.6.21)\n",
            "Requirement already satisfied: azure-core<2.0.0,>=1.9.0 in /usr/local/lib/python3.7/dist-packages (from azure-mgmt-core<2.0.0,>=1.2.0->azure-mgmt-resource) (1.12.0)\n",
            "Requirement already satisfied: certifi>=2017.4.17 in /usr/local/lib/python3.7/dist-packages (from msrest>=0.5.0->azure-mgmt-resource) (2020.12.5)\n",
            "Requirement already satisfied: requests-oauthlib>=0.5.0 in /usr/local/lib/python3.7/dist-packages (from msrest>=0.5.0->azure-mgmt-resource) (1.3.0)\n",
            "Requirement already satisfied: isodate>=0.6.0 in /usr/local/lib/python3.7/dist-packages (from msrest>=0.5.0->azure-mgmt-resource) (0.6.0)\n",
            "Requirement already satisfied: requests~=2.16 in /usr/local/lib/python3.7/dist-packages (from msrest>=0.5.0->azure-mgmt-resource) (2.23.0)\n",
            "Requirement already satisfied: six>=1.11.0 in /usr/local/lib/python3.7/dist-packages (from azure-core<2.0.0,>=1.9.0->azure-mgmt-core<2.0.0,>=1.2.0->azure-mgmt-resource) (1.15.0)\n",
            "Requirement already satisfied: oauthlib>=3.0.0 in /usr/local/lib/python3.7/dist-packages (from requests-oauthlib>=0.5.0->msrest>=0.5.0->azure-mgmt-resource) (3.1.0)\n",
            "Requirement already satisfied: chardet<4,>=3.0.2 in /usr/local/lib/python3.7/dist-packages (from requests~=2.16->msrest>=0.5.0->azure-mgmt-resource) (3.0.4)\n",
            "Requirement already satisfied: idna<3,>=2.5 in /usr/local/lib/python3.7/dist-packages (from requests~=2.16->msrest>=0.5.0->azure-mgmt-resource) (2.10)\n",
            "Requirement already satisfied: urllib3!=1.25.0,!=1.25.1,<1.26,>=1.21.1 in /usr/local/lib/python3.7/dist-packages (from requests~=2.16->msrest>=0.5.0->azure-mgmt-resource) (1.24.3)\n"
          ],
          "name": "stdout"
        }
      ]
    },
    {
      "cell_type": "code",
      "metadata": {
        "id": "j3FZ44A8pjTf"
      },
      "source": [
        "from azure.mgmt.resource import ResourceManagementClient\n",
        "'fl0qDqm6Y0t87zt6W+n2rb0actEFhyrs6MqEZn8ZVNPhaY+WVLtm/8jjWaoCWTMvPKQ+ATbqaVjQFkwduXTp3Q=='\n",
        "AccountName = 'newsdashboard'\n",
        "AccountKey='fl0qDqm6Y0t87zt6W+n2rb0actEFhyrs6MqEZn8ZVNPhaY+WVLtm/8jjWaoCWTMvPKQ+ATbqaVjQFkwduXTp3Q=='\n",
        "EndpointSuffix='core.windows.net'\n",
        "\n",
        "RESOURCE_GROUP = 'datastorage'\n",
        "LOCATION = 'eastCanada East, Canada Central'  # example Azure availability zone, should match resource group\n",
        "#SQL_SERVER = 'yourvirtualsqlserver'\n",
        "#SQL_DB = 'YOUR_SQLDB_NAME'\n",
        "#USERNAME = 'YOUR_USERNAME'\n",
        "#PASSWORD = 'YOUR_PASSWORD'\n",
        "\n",
        "\n"
      ],
      "execution_count": 2,
      "outputs": []
    },
    {
      "cell_type": "code",
      "metadata": {
        "colab": {
          "base_uri": "https://localhost:8080/"
        },
        "id": "lttx4xvBs_1H",
        "outputId": "49715a4c-4aba-4193-fdcc-c106dc45eb23"
      },
      "source": [
        "!pip install azure-storage-file-datalake"
      ],
      "execution_count": 3,
      "outputs": [
        {
          "output_type": "stream",
          "text": [
            "Requirement already satisfied: azure-storage-file-datalake in /usr/local/lib/python3.7/dist-packages (12.3.0)\n",
            "Requirement already satisfied: msrest>=0.6.18 in /usr/local/lib/python3.7/dist-packages (from azure-storage-file-datalake) (0.6.21)\n",
            "Requirement already satisfied: azure-storage-blob<13.0.0,>=12.8.0b1 in /usr/local/lib/python3.7/dist-packages (from azure-storage-file-datalake) (12.8.0)\n",
            "Requirement already satisfied: azure-core<2.0.0,>=1.10.0 in /usr/local/lib/python3.7/dist-packages (from azure-storage-file-datalake) (1.12.0)\n",
            "Requirement already satisfied: requests~=2.16 in /usr/local/lib/python3.7/dist-packages (from msrest>=0.6.18->azure-storage-file-datalake) (2.23.0)\n",
            "Requirement already satisfied: requests-oauthlib>=0.5.0 in /usr/local/lib/python3.7/dist-packages (from msrest>=0.6.18->azure-storage-file-datalake) (1.3.0)\n",
            "Requirement already satisfied: isodate>=0.6.0 in /usr/local/lib/python3.7/dist-packages (from msrest>=0.6.18->azure-storage-file-datalake) (0.6.0)\n",
            "Requirement already satisfied: certifi>=2017.4.17 in /usr/local/lib/python3.7/dist-packages (from msrest>=0.6.18->azure-storage-file-datalake) (2020.12.5)\n",
            "Requirement already satisfied: cryptography>=2.1.4 in /usr/local/lib/python3.7/dist-packages (from azure-storage-blob<13.0.0,>=12.8.0b1->azure-storage-file-datalake) (3.4.7)\n",
            "Requirement already satisfied: six>=1.11.0 in /usr/local/lib/python3.7/dist-packages (from azure-core<2.0.0,>=1.10.0->azure-storage-file-datalake) (1.15.0)\n",
            "Requirement already satisfied: idna<3,>=2.5 in /usr/local/lib/python3.7/dist-packages (from requests~=2.16->msrest>=0.6.18->azure-storage-file-datalake) (2.10)\n",
            "Requirement already satisfied: urllib3!=1.25.0,!=1.25.1,<1.26,>=1.21.1 in /usr/local/lib/python3.7/dist-packages (from requests~=2.16->msrest>=0.6.18->azure-storage-file-datalake) (1.24.3)\n",
            "Requirement already satisfied: chardet<4,>=3.0.2 in /usr/local/lib/python3.7/dist-packages (from requests~=2.16->msrest>=0.6.18->azure-storage-file-datalake) (3.0.4)\n",
            "Requirement already satisfied: oauthlib>=3.0.0 in /usr/local/lib/python3.7/dist-packages (from requests-oauthlib>=0.5.0->msrest>=0.6.18->azure-storage-file-datalake) (3.1.0)\n",
            "Requirement already satisfied: cffi>=1.12 in /usr/local/lib/python3.7/dist-packages (from cryptography>=2.1.4->azure-storage-blob<13.0.0,>=12.8.0b1->azure-storage-file-datalake) (1.14.5)\n",
            "Requirement already satisfied: pycparser in /usr/local/lib/python3.7/dist-packages (from cffi>=1.12->cryptography>=2.1.4->azure-storage-blob<13.0.0,>=12.8.0b1->azure-storage-file-datalake) (2.20)\n"
          ],
          "name": "stdout"
        }
      ]
    },
    {
      "cell_type": "code",
      "metadata": {
        "id": "oXGu9vZYtCkK"
      },
      "source": [
        "import os, uuid, sys\n",
        "from azure.storage.filedatalake import DataLakeServiceClient\n",
        "from azure.core._match_conditions import MatchConditions\n",
        "from azure.storage.filedatalake._models import ContentSettings"
      ],
      "execution_count": 4,
      "outputs": []
    },
    {
      "cell_type": "code",
      "metadata": {
        "id": "olM5j572tFZZ"
      },
      "source": [
        "#Connect by using Azure Active Directory (Azure AD)\n",
        "\n",
        "AccountName = 'newsdashboard'\n",
        "AccountKey='fl0qDqm6Y0t87zt6W+n2rb0actEFhyrs6MqEZn8ZVNPhaY+WVLtm/8jjWaoCWTMvPKQ+ATbqaVjQFkwduXTp3Q=='\n",
        "EndpointSuffix='core.windows.net'\n",
        "\n",
        "\n",
        "def initialize_storage_account(storage_account_name, storage_account_key):\n",
        "    \n",
        "    try:  \n",
        "        global service_client\n",
        "\n",
        "        service_client = DataLakeServiceClient(account_url=\"{}://{}.dfs.core.windows.net\".format(\n",
        "            \"https\", storage_account_name), credential=storage_account_key)\n",
        "    \n",
        "    except Exception as e:\n",
        "        print(e)\n",
        "\n",
        "def create_file_system():\n",
        "    try:\n",
        "        global file_system_client\n",
        "\n",
        "        file_system_client = service_client.create_file_system(file_system=\"my-file-system\")\n",
        "    \n",
        "    except Exception as e:\n",
        "        print(e)\n",
        "\n",
        "def create_directory():\n",
        "    try:\n",
        "        file_system_client.create_directory(\"my-directory\")\n",
        "    \n",
        "    except Exception as e:\n",
        "     print(e)\n",
        "\n",
        "def upload_file_to_directory():\n",
        "    try:\n",
        "\n",
        "        file_system_client = service_client.get_file_system_client(file_system=\"my-file-system\")\n",
        "\n",
        "        directory_client = file_system_client.get_directory_client(\"my-directory\")\n",
        "        \n",
        "        file_client = directory_client.create_file(\"uploaded-file.txt\")\n",
        "        local_file = open(\"C:\\\\file-to-upload.txt\",'r')\n",
        "\n",
        "        file_contents = local_file.read()\n",
        "\n",
        "        file_client.append_data(data=file_contents, offset=0, length=len(file_contents))\n",
        "\n",
        "        file_client.flush_data(len(file_contents))\n",
        "\n",
        "    except Exception as e:\n",
        "      print(e)\n",
        "\n",
        "def upload_file_to_directory_bulk():\n",
        "    try:\n",
        "\n",
        "        file_system_client = service_client.get_file_system_client(file_system=\"my-file-system\")\n",
        "\n",
        "        directory_client = file_system_client.get_directory_client(\"my-directory\")\n",
        "        \n",
        "        file_client = directory_client.get_file_client(\"uploaded-file.txt\")\n",
        "\n",
        "        local_file = open(\"C:\\\\file-to-upload.txt\",'r')\n",
        "\n",
        "        file_contents = local_file.read()\n",
        "\n",
        "        file_client.upload_data(file_contents, overwrite=True)\n",
        "\n",
        "    except Exception as e:\n",
        "      print(e)\n",
        "      "
      ],
      "execution_count": 5,
      "outputs": []
    },
    {
      "cell_type": "code",
      "metadata": {
        "id": "BipxZ8jrvqDR"
      },
      "source": [
        "initialize_storage_account(AccountName, AccountKey)\n"
      ],
      "execution_count": 6,
      "outputs": []
    },
    {
      "cell_type": "code",
      "metadata": {
        "id": "wdYtxHjaKwq0"
      },
      "source": [
        "def create_directory(file_system_name, directory_name):\n",
        "    file_system_client = service_client.get_file_system_client(file_system=file_system_name)\n",
        "\n",
        "    try:\n",
        "        file_system_client.create_directory(directory_name)\n",
        "    \n",
        "    except Exception as e:\n",
        "     print(e)\n",
        "\n",
        "create_directory(file_system_name=\"news\", directory_name=\"data\")"
      ],
      "execution_count": 14,
      "outputs": []
    },
    {
      "cell_type": "code",
      "metadata": {
        "id": "cp6TQ0lxCEdb"
      },
      "source": [
        "def initialize_storage_account_ad(storage_account_name, client_id, client_secret, tenant_id):\n",
        "    \n",
        "    try:  \n",
        "        global service_client\n",
        "\n",
        "        credential = ClientSecretCredential(tenant_id, client_id, client_secret)\n",
        "\n",
        "        service_client = DataLakeServiceClient(account_url=\"{}://{}.dfs.core.windows.net\".format(\n",
        "            \"https\", storage_account_name), credential=credential)\n",
        "    \n",
        "    except Exception as e:\n",
        "        print(e)\n",
        "\n",
        "#initialize_storage_account_ad(storage_account_name, client_id, client_secret, tenant_id)"
      ],
      "execution_count": 9,
      "outputs": []
    },
    {
      "cell_type": "code",
      "metadata": {
        "id": "B5526f95Dwx-",
        "outputId": "f8a29d0d-f692-45c1-c00b-ef5829744452",
        "colab": {
          "base_uri": "https://localhost:8080/"
        }
      },
      "source": [
        "def list_directory_contents(file_system_name, directory):\n",
        "    try:\n",
        "        \n",
        "        file_system_client = service_client.get_file_system_client(file_system=file_system_name)\n",
        "\n",
        "        paths = file_system_client.get_paths(path=directory)\n",
        "\n",
        "        for path in paths:\n",
        "            print(path.name + '\\n')\n",
        "\n",
        "    except Exception as e:\n",
        "     print(e)\n",
        "\n",
        "list_directory_contents(file_system_name=\"news\", )"
      ],
      "execution_count": 11,
      "outputs": [
        {
          "output_type": "stream",
          "text": [
            "(FilesystemNotFound) The specified filesystem does not exist.\n",
            "RequestId:5b814708-301f-000e-36dc-21b1ac000000\n",
            "Time:2021-03-26T01:07:20.6773654Z\n"
          ],
          "name": "stdout"
        }
      ]
    },
    {
      "cell_type": "code",
      "metadata": {
        "id": "DmySefIFEYz_"
      },
      "source": [
        ""
      ],
      "execution_count": null,
      "outputs": []
    }
  ]
}